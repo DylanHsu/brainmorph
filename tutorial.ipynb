{
 "cells": [
  {
   "cell_type": "code",
   "execution_count": 6,
   "metadata": {},
   "outputs": [
    {
     "name": "stdout",
     "output_type": "stream",
     "text": [
      "Requirement already satisfied: keymorph in /home/alw4013/brainmorph (1.0.0)\n",
      "Requirement already satisfied: numpy>=1.19.1 in /midtier/sablab/scratch/alw4013/miniconda3/envs/voxelmorph_38/lib/python3.8/site-packages (from keymorph) (1.23.4)\n",
      "Requirement already satisfied: ogb>=1.2.6 in /midtier/sablab/scratch/alw4013/miniconda3/envs/voxelmorph_38/lib/python3.8/site-packages (from keymorph) (1.3.6)\n",
      "Requirement already satisfied: outdated>=0.2.0 in /midtier/sablab/scratch/alw4013/miniconda3/envs/voxelmorph_38/lib/python3.8/site-packages (from keymorph) (0.2.2)\n",
      "Requirement already satisfied: pandas>=1.1.0 in /midtier/sablab/scratch/alw4013/miniconda3/envs/voxelmorph_38/lib/python3.8/site-packages (from keymorph) (2.0.3)\n",
      "Requirement already satisfied: pytz>=2020.4 in /midtier/sablab/scratch/alw4013/miniconda3/envs/voxelmorph_38/lib/python3.8/site-packages (from keymorph) (2023.3.post1)\n",
      "Requirement already satisfied: torch>=1.7.0 in /midtier/sablab/scratch/alw4013/miniconda3/envs/voxelmorph_38/lib/python3.8/site-packages (from keymorph) (2.2.2)\n",
      "Requirement already satisfied: torchvision>=0.8.2 in /midtier/sablab/scratch/alw4013/miniconda3/envs/voxelmorph_38/lib/python3.8/site-packages (from keymorph) (0.17.2)\n",
      "Requirement already satisfied: scikit-learn>=0.20.0 in /midtier/sablab/scratch/alw4013/miniconda3/envs/voxelmorph_38/lib/python3.8/site-packages (from keymorph) (1.3.2)\n",
      "Requirement already satisfied: scipy>=1.5.4 in /midtier/sablab/scratch/alw4013/miniconda3/envs/voxelmorph_38/lib/python3.8/site-packages (from keymorph) (1.10.1)\n",
      "Requirement already satisfied: torchio>=0.19.6 in /midtier/sablab/scratch/alw4013/miniconda3/envs/voxelmorph_38/lib/python3.8/site-packages (from keymorph) (0.19.6)\n",
      "Requirement already satisfied: tqdm>=4.29.0 in /midtier/sablab/scratch/alw4013/miniconda3/envs/voxelmorph_38/lib/python3.8/site-packages (from ogb>=1.2.6->keymorph) (4.66.2)\n",
      "Requirement already satisfied: six>=1.12.0 in /midtier/sablab/scratch/alw4013/miniconda3/envs/voxelmorph_38/lib/python3.8/site-packages (from ogb>=1.2.6->keymorph) (1.16.0)\n",
      "Requirement already satisfied: urllib3>=1.24.0 in /midtier/sablab/scratch/alw4013/miniconda3/envs/voxelmorph_38/lib/python3.8/site-packages (from ogb>=1.2.6->keymorph) (1.26.18)\n",
      "Requirement already satisfied: setuptools>=44 in /midtier/sablab/scratch/alw4013/miniconda3/envs/voxelmorph_38/lib/python3.8/site-packages (from outdated>=0.2.0->keymorph) (68.0.0)\n",
      "Requirement already satisfied: littleutils in /midtier/sablab/scratch/alw4013/miniconda3/envs/voxelmorph_38/lib/python3.8/site-packages (from outdated>=0.2.0->keymorph) (0.2.2)\n",
      "Requirement already satisfied: requests in /midtier/sablab/scratch/alw4013/miniconda3/envs/voxelmorph_38/lib/python3.8/site-packages (from outdated>=0.2.0->keymorph) (2.31.0)\n",
      "Requirement already satisfied: python-dateutil>=2.8.2 in /midtier/sablab/scratch/alw4013/miniconda3/envs/voxelmorph_38/lib/python3.8/site-packages (from pandas>=1.1.0->keymorph) (2.8.2)\n",
      "Requirement already satisfied: tzdata>=2022.1 in /midtier/sablab/scratch/alw4013/miniconda3/envs/voxelmorph_38/lib/python3.8/site-packages (from pandas>=1.1.0->keymorph) (2024.1)\n",
      "Requirement already satisfied: joblib>=1.1.1 in /midtier/sablab/scratch/alw4013/miniconda3/envs/voxelmorph_38/lib/python3.8/site-packages (from scikit-learn>=0.20.0->keymorph) (1.3.2)\n",
      "Requirement already satisfied: threadpoolctl>=2.0.0 in /midtier/sablab/scratch/alw4013/miniconda3/envs/voxelmorph_38/lib/python3.8/site-packages (from scikit-learn>=0.20.0->keymorph) (3.4.0)\n",
      "Requirement already satisfied: filelock in /midtier/sablab/scratch/alw4013/miniconda3/envs/voxelmorph_38/lib/python3.8/site-packages (from torch>=1.7.0->keymorph) (3.13.1)\n",
      "Requirement already satisfied: typing-extensions>=4.8.0 in /midtier/sablab/scratch/alw4013/miniconda3/envs/voxelmorph_38/lib/python3.8/site-packages (from torch>=1.7.0->keymorph) (4.9.0)\n",
      "Requirement already satisfied: sympy in /midtier/sablab/scratch/alw4013/miniconda3/envs/voxelmorph_38/lib/python3.8/site-packages (from torch>=1.7.0->keymorph) (1.12)\n",
      "Requirement already satisfied: networkx in /midtier/sablab/scratch/alw4013/miniconda3/envs/voxelmorph_38/lib/python3.8/site-packages (from torch>=1.7.0->keymorph) (3.1)\n",
      "Requirement already satisfied: jinja2 in /midtier/sablab/scratch/alw4013/miniconda3/envs/voxelmorph_38/lib/python3.8/site-packages (from torch>=1.7.0->keymorph) (3.1.3)\n",
      "Requirement already satisfied: fsspec in /midtier/sablab/scratch/alw4013/miniconda3/envs/voxelmorph_38/lib/python3.8/site-packages (from torch>=1.7.0->keymorph) (2024.3.1)\n",
      "Requirement already satisfied: Deprecated in /midtier/sablab/scratch/alw4013/miniconda3/envs/voxelmorph_38/lib/python3.8/site-packages (from torchio>=0.19.6->keymorph) (1.2.14)\n",
      "Requirement already satisfied: SimpleITK!=2.0.*,!=2.1.1.1 in /midtier/sablab/scratch/alw4013/miniconda3/envs/voxelmorph_38/lib/python3.8/site-packages (from torchio>=0.19.6->keymorph) (2.3.1)\n",
      "Requirement already satisfied: humanize in /midtier/sablab/scratch/alw4013/miniconda3/envs/voxelmorph_38/lib/python3.8/site-packages (from torchio>=0.19.6->keymorph) (4.9.0)\n",
      "Requirement already satisfied: nibabel in /midtier/sablab/scratch/alw4013/miniconda3/envs/voxelmorph_38/lib/python3.8/site-packages (from torchio>=0.19.6->keymorph) (5.2.1)\n",
      "Requirement already satisfied: typer[all] in /midtier/sablab/scratch/alw4013/miniconda3/envs/voxelmorph_38/lib/python3.8/site-packages (from torchio>=0.19.6->keymorph) (0.12.0)\n",
      "Requirement already satisfied: pillow!=8.3.*,>=5.3.0 in /midtier/sablab/scratch/alw4013/miniconda3/envs/voxelmorph_38/lib/python3.8/site-packages (from torchvision>=0.8.2->keymorph) (10.0.1)\n",
      "Requirement already satisfied: wrapt<2,>=1.10 in /midtier/sablab/scratch/alw4013/miniconda3/envs/voxelmorph_38/lib/python3.8/site-packages (from Deprecated->torchio>=0.19.6->keymorph) (1.14.1)\n",
      "Requirement already satisfied: MarkupSafe>=2.0 in /midtier/sablab/scratch/alw4013/miniconda3/envs/voxelmorph_38/lib/python3.8/site-packages (from jinja2->torch>=1.7.0->keymorph) (2.1.1)\n",
      "Requirement already satisfied: importlib-resources>=1.3 in /midtier/sablab/scratch/alw4013/miniconda3/envs/voxelmorph_38/lib/python3.8/site-packages (from nibabel->torchio>=0.19.6->keymorph) (6.1.0)\n",
      "Requirement already satisfied: packaging>=17 in /midtier/sablab/scratch/alw4013/miniconda3/envs/voxelmorph_38/lib/python3.8/site-packages (from nibabel->torchio>=0.19.6->keymorph) (23.1)\n",
      "Requirement already satisfied: charset-normalizer<4,>=2 in /midtier/sablab/scratch/alw4013/miniconda3/envs/voxelmorph_38/lib/python3.8/site-packages (from requests->outdated>=0.2.0->keymorph) (2.0.4)\n",
      "Requirement already satisfied: idna<4,>=2.5 in /midtier/sablab/scratch/alw4013/miniconda3/envs/voxelmorph_38/lib/python3.8/site-packages (from requests->outdated>=0.2.0->keymorph) (3.4)\n",
      "Requirement already satisfied: certifi>=2017.4.17 in /midtier/sablab/scratch/alw4013/miniconda3/envs/voxelmorph_38/lib/python3.8/site-packages (from requests->outdated>=0.2.0->keymorph) (2024.2.2)\n",
      "Requirement already satisfied: mpmath>=0.19 in /midtier/sablab/scratch/alw4013/miniconda3/envs/voxelmorph_38/lib/python3.8/site-packages (from sympy->torch>=1.7.0->keymorph) (1.3.0)\n",
      "\u001b[33mWARNING: typer 0.12.0 does not provide the extra 'all'\u001b[0m\u001b[33m\n",
      "\u001b[0mRequirement already satisfied: typer-slim==0.12.0 in /midtier/sablab/scratch/alw4013/miniconda3/envs/voxelmorph_38/lib/python3.8/site-packages (from typer-slim[standard]==0.12.0->typer[all]->torchio>=0.19.6->keymorph) (0.12.0)\n",
      "Requirement already satisfied: typer-cli==0.12.0 in /midtier/sablab/scratch/alw4013/miniconda3/envs/voxelmorph_38/lib/python3.8/site-packages (from typer[all]->torchio>=0.19.6->keymorph) (0.12.0)\n",
      "Requirement already satisfied: click>=8.0.0 in /midtier/sablab/scratch/alw4013/miniconda3/envs/voxelmorph_38/lib/python3.8/site-packages (from typer-slim==0.12.0->typer-slim[standard]==0.12.0->typer[all]->torchio>=0.19.6->keymorph) (8.1.7)\n",
      "Requirement already satisfied: shellingham>=1.3.0 in /midtier/sablab/scratch/alw4013/miniconda3/envs/voxelmorph_38/lib/python3.8/site-packages (from typer-slim[standard]==0.12.0->typer[all]->torchio>=0.19.6->keymorph) (1.5.4)\n",
      "Requirement already satisfied: rich>=10.11.0 in /midtier/sablab/scratch/alw4013/miniconda3/envs/voxelmorph_38/lib/python3.8/site-packages (from typer-slim[standard]==0.12.0->typer[all]->torchio>=0.19.6->keymorph) (13.7.1)\n",
      "Requirement already satisfied: zipp>=3.1.0 in /midtier/sablab/scratch/alw4013/miniconda3/envs/voxelmorph_38/lib/python3.8/site-packages (from importlib-resources>=1.3->nibabel->torchio>=0.19.6->keymorph) (3.11.0)\n",
      "Requirement already satisfied: markdown-it-py>=2.2.0 in /midtier/sablab/scratch/alw4013/miniconda3/envs/voxelmorph_38/lib/python3.8/site-packages (from rich>=10.11.0->typer-slim[standard]==0.12.0->typer[all]->torchio>=0.19.6->keymorph) (3.0.0)\n",
      "Requirement already satisfied: pygments<3.0.0,>=2.13.0 in /midtier/sablab/scratch/alw4013/miniconda3/envs/voxelmorph_38/lib/python3.8/site-packages (from rich>=10.11.0->typer-slim[standard]==0.12.0->typer[all]->torchio>=0.19.6->keymorph) (2.15.1)\n",
      "Requirement already satisfied: mdurl~=0.1 in /midtier/sablab/scratch/alw4013/miniconda3/envs/voxelmorph_38/lib/python3.8/site-packages (from markdown-it-py>=2.2.0->rich>=10.11.0->typer-slim[standard]==0.12.0->typer[all]->torchio>=0.19.6->keymorph) (0.1.2)\n",
      "Collecting gdown\n",
      "  Downloading gdown-5.2.0-py3-none-any.whl.metadata (5.8 kB)\n",
      "Requirement already satisfied: beautifulsoup4 in /midtier/sablab/scratch/alw4013/miniconda3/envs/voxelmorph_38/lib/python3.8/site-packages (from gdown) (4.12.2)\n",
      "Requirement already satisfied: filelock in /midtier/sablab/scratch/alw4013/miniconda3/envs/voxelmorph_38/lib/python3.8/site-packages (from gdown) (3.13.1)\n",
      "Requirement already satisfied: requests[socks] in /midtier/sablab/scratch/alw4013/miniconda3/envs/voxelmorph_38/lib/python3.8/site-packages (from gdown) (2.31.0)\n",
      "Requirement already satisfied: tqdm in /midtier/sablab/scratch/alw4013/miniconda3/envs/voxelmorph_38/lib/python3.8/site-packages (from gdown) (4.66.2)\n",
      "Requirement already satisfied: soupsieve>1.2 in /midtier/sablab/scratch/alw4013/miniconda3/envs/voxelmorph_38/lib/python3.8/site-packages (from beautifulsoup4->gdown) (2.5)\n",
      "Requirement already satisfied: charset-normalizer<4,>=2 in /midtier/sablab/scratch/alw4013/miniconda3/envs/voxelmorph_38/lib/python3.8/site-packages (from requests[socks]->gdown) (2.0.4)\n",
      "Requirement already satisfied: idna<4,>=2.5 in /midtier/sablab/scratch/alw4013/miniconda3/envs/voxelmorph_38/lib/python3.8/site-packages (from requests[socks]->gdown) (3.4)\n",
      "Requirement already satisfied: urllib3<3,>=1.21.1 in /midtier/sablab/scratch/alw4013/miniconda3/envs/voxelmorph_38/lib/python3.8/site-packages (from requests[socks]->gdown) (1.26.18)\n",
      "Requirement already satisfied: certifi>=2017.4.17 in /midtier/sablab/scratch/alw4013/miniconda3/envs/voxelmorph_38/lib/python3.8/site-packages (from requests[socks]->gdown) (2024.2.2)\n",
      "Requirement already satisfied: PySocks!=1.5.7,>=1.5.6 in /midtier/sablab/scratch/alw4013/miniconda3/envs/voxelmorph_38/lib/python3.8/site-packages (from requests[socks]->gdown) (1.7.1)\n",
      "Downloading gdown-5.2.0-py3-none-any.whl (18 kB)\n",
      "Installing collected packages: gdown\n",
      "Successfully installed gdown-5.2.0\n"
     ]
    }
   ],
   "source": [
    "!pip install keymorph\n",
    "!pip install gdown\n",
    "import numpy as np\n",
    "import nibabel as nib\n",
    "import torchio as tio\n",
    "from keymorph.viz_tools import imshow_img_and_points_3d, imshow_registration_3d"
   ]
  },
  {
   "cell_type": "code",
   "execution_count": 9,
   "metadata": {},
   "outputs": [],
   "source": [
    "NUM_KEYPOINTS = 512\n",
    "VARIANT = 'S'"
   ]
  },
  {
   "cell_type": "markdown",
   "metadata": {},
   "source": [
    "Run the registration command on example data:"
   ]
  },
  {
   "cell_type": "code",
   "execution_count": 11,
   "metadata": {},
   "outputs": [
    {
     "name": "stdout",
     "output_type": "stream",
     "text": [
      "Number of GPUs: 0\n",
      "\n",
      "Model Summary\n",
      "---------------------------------------------------------------\n",
      "backbone.module.encoders.0.basic_module.SingleConv1.groupnorm.weight\n",
      "backbone.module.encoders.0.basic_module.SingleConv1.groupnorm.bias\n",
      "backbone.module.encoders.0.basic_module.SingleConv1.conv.weight\n",
      "backbone.module.encoders.0.basic_module.SingleConv2.groupnorm.weight\n",
      "backbone.module.encoders.0.basic_module.SingleConv2.groupnorm.bias\n",
      "backbone.module.encoders.0.basic_module.SingleConv2.conv.weight\n",
      "backbone.module.encoders.1.basic_module.SingleConv1.groupnorm.weight\n",
      "backbone.module.encoders.1.basic_module.SingleConv1.groupnorm.bias\n",
      "backbone.module.encoders.1.basic_module.SingleConv1.conv.weight\n",
      "backbone.module.encoders.1.basic_module.SingleConv2.groupnorm.weight\n",
      "backbone.module.encoders.1.basic_module.SingleConv2.groupnorm.bias\n",
      "backbone.module.encoders.1.basic_module.SingleConv2.conv.weight\n",
      "backbone.module.encoders.2.basic_module.SingleConv1.groupnorm.weight\n",
      "backbone.module.encoders.2.basic_module.SingleConv1.groupnorm.bias\n",
      "backbone.module.encoders.2.basic_module.SingleConv1.conv.weight\n",
      "backbone.module.encoders.2.basic_module.SingleConv2.groupnorm.weight\n",
      "backbone.module.encoders.2.basic_module.SingleConv2.groupnorm.bias\n",
      "backbone.module.encoders.2.basic_module.SingleConv2.conv.weight\n",
      "backbone.module.encoders.3.basic_module.SingleConv1.groupnorm.weight\n",
      "backbone.module.encoders.3.basic_module.SingleConv1.groupnorm.bias\n",
      "backbone.module.encoders.3.basic_module.SingleConv1.conv.weight\n",
      "backbone.module.encoders.3.basic_module.SingleConv2.groupnorm.weight\n",
      "backbone.module.encoders.3.basic_module.SingleConv2.groupnorm.bias\n",
      "backbone.module.encoders.3.basic_module.SingleConv2.conv.weight\n",
      "backbone.module.decoders.0.basic_module.SingleConv1.groupnorm.weight\n",
      "backbone.module.decoders.0.basic_module.SingleConv1.groupnorm.bias\n",
      "backbone.module.decoders.0.basic_module.SingleConv1.conv.weight\n",
      "backbone.module.decoders.0.basic_module.SingleConv2.groupnorm.weight\n",
      "backbone.module.decoders.0.basic_module.SingleConv2.groupnorm.bias\n",
      "backbone.module.decoders.0.basic_module.SingleConv2.conv.weight\n",
      "backbone.module.decoders.1.basic_module.SingleConv1.groupnorm.weight\n",
      "backbone.module.decoders.1.basic_module.SingleConv1.groupnorm.bias\n",
      "backbone.module.decoders.1.basic_module.SingleConv1.conv.weight\n",
      "backbone.module.decoders.1.basic_module.SingleConv2.groupnorm.weight\n",
      "backbone.module.decoders.1.basic_module.SingleConv2.groupnorm.bias\n",
      "backbone.module.decoders.1.basic_module.SingleConv2.conv.weight\n",
      "backbone.module.final_conv.weight\n",
      "backbone.module.final_conv.bias\n",
      "Total parameters: 4003666\n",
      "---------------------------------------------------------------\n",
      "\n"
     ]
    },
    {
     "name": "stderr",
     "output_type": "stream",
     "text": [
      "Downloading...\n",
      "From: https://drive.google.com/uc?id=14ig3UzF2awqTwkIA49BXBBz3lQQS4JCn\n",
      "To: /home/alw4013/brainmorph/weights/foundation-numkey512-numlevels4.pth.tar\n",
      "100%|██████████| 48.1M/48.1M [00:00<00:00, 189MB/s]\n"
     ]
    },
    {
     "name": "stdout",
     "output_type": "stream",
     "text": [
      "\n",
      "It took 0.1 minutes to download the model.\n",
      "\n",
      "Loading checkpoint from ./weights/foundation-numkey512-numlevels4.pth.tar\n",
      "Missing keys when loading checkpoint:  []\n",
      "\n",
      "\n",
      "\n",
      "Running test: subject id 0->0, mod fixed->moving, aug rot0\n",
      "Converting points from [-1, 1] to image coordinates\n",
      "Converting points from [-1, 1] to image coordinates\n",
      "Converting points from [-1, 1] to image coordinates\n",
      "Figure(1600x1600)\n",
      "Converting points from [-1, 1] to image coordinates\n",
      "Converting points from [-1, 1] to image coordinates\n",
      "Converting points from [-1, 1] to image coordinates\n",
      "Figure(1600x1600)\n"
     ]
    }
   ],
   "source": [
    "%%bash -s \"$NUM_KEYPOINTS\" \"$VARIANT\"\n",
    "python scripts/register.py \\\n",
    "    --num_keypoints $1 \\\n",
    "    --variant $2 \\\n",
    "    --weights_dir ./weights/ \\\n",
    "    --moving ./example_data/img_m/IXI_000001_0000.nii.gz \\\n",
    "    --fixed ./example_data/img_m/IXI_000002_0000.nii.gz \\\n",
    "    --moving_seg ./example_data/seg_m/IXI_000001_0000.nii.gz \\\n",
    "    --fixed_seg ./example_data/seg_m/IXI_000002_0000.nii.gz \\\n",
    "    --list_of_aligns rigid affine tps_1 \\\n",
    "    --list_of_metrics mse harddice \\\n",
    "    --save_eval_to_disk \\\n",
    "    --visualize \\\n",
    "    --download"
   ]
  },
  {
   "cell_type": "markdown",
   "metadata": {},
   "source": [
    "Load the images and points which the above command generates:"
   ]
  },
  {
   "cell_type": "code",
   "execution_count": 8,
   "metadata": {},
   "outputs": [
    {
     "ename": "FileNotFoundError",
     "evalue": "[Errno 2] No such file or directory: './register_output/eval/0_0_fixed_moving/img_a_0-fixed_0-moving-rot0-tps_1.npy'",
     "output_type": "error",
     "traceback": [
      "\u001b[0;31m---------------------------------------------------------------------------\u001b[0m",
      "\u001b[0;31mFileNotFoundError\u001b[0m                         Traceback (most recent call last)",
      "Cell \u001b[0;32mIn[8], line 13\u001b[0m\n\u001b[1;32m     11\u001b[0m moving \u001b[38;5;241m=\u001b[39m nib\u001b[38;5;241m.\u001b[39mload(moving_path)\u001b[38;5;241m.\u001b[39mget_fdata()\n\u001b[1;32m     12\u001b[0m fixed \u001b[38;5;241m=\u001b[39m nib\u001b[38;5;241m.\u001b[39mload(fixed_path)\u001b[38;5;241m.\u001b[39mget_fdata()\n\u001b[0;32m---> 13\u001b[0m aligned \u001b[38;5;241m=\u001b[39m \u001b[43mnp\u001b[49m\u001b[38;5;241;43m.\u001b[39;49m\u001b[43mload\u001b[49m\u001b[43m(\u001b[49m\u001b[43maligned_path\u001b[49m\u001b[43m)\u001b[49m[\u001b[38;5;241m0\u001b[39m]\n\u001b[1;32m     15\u001b[0m points_m \u001b[38;5;241m=\u001b[39m np\u001b[38;5;241m.\u001b[39mload(points_m_path)\n\u001b[1;32m     16\u001b[0m points_f \u001b[38;5;241m=\u001b[39m np\u001b[38;5;241m.\u001b[39mload(points_f_path)\n",
      "File \u001b[0;32m/midtier/sablab/scratch/alw4013/miniconda3/envs/voxelmorph_38/lib/python3.8/site-packages/numpy/lib/npyio.py:390\u001b[0m, in \u001b[0;36mload\u001b[0;34m(file, mmap_mode, allow_pickle, fix_imports, encoding)\u001b[0m\n\u001b[1;32m    388\u001b[0m     own_fid \u001b[38;5;241m=\u001b[39m \u001b[38;5;28;01mFalse\u001b[39;00m\n\u001b[1;32m    389\u001b[0m \u001b[38;5;28;01melse\u001b[39;00m:\n\u001b[0;32m--> 390\u001b[0m     fid \u001b[38;5;241m=\u001b[39m stack\u001b[38;5;241m.\u001b[39menter_context(\u001b[38;5;28;43mopen\u001b[39;49m\u001b[43m(\u001b[49m\u001b[43mos_fspath\u001b[49m\u001b[43m(\u001b[49m\u001b[43mfile\u001b[49m\u001b[43m)\u001b[49m\u001b[43m,\u001b[49m\u001b[43m \u001b[49m\u001b[38;5;124;43m\"\u001b[39;49m\u001b[38;5;124;43mrb\u001b[39;49m\u001b[38;5;124;43m\"\u001b[39;49m\u001b[43m)\u001b[49m)\n\u001b[1;32m    391\u001b[0m     own_fid \u001b[38;5;241m=\u001b[39m \u001b[38;5;28;01mTrue\u001b[39;00m\n\u001b[1;32m    393\u001b[0m \u001b[38;5;66;03m# Code to distinguish from NumPy binary files and pickles.\u001b[39;00m\n",
      "\u001b[0;31mFileNotFoundError\u001b[0m: [Errno 2] No such file or directory: './register_output/eval/0_0_fixed_moving/img_a_0-fixed_0-moving-rot0-tps_1.npy'"
     ]
    }
   ],
   "source": [
    "moving_path = './example_data/img_m/IXI_000001_0000.nii.gz'\n",
    "fixed_path = './example_data/img_m/IXI_000002_0000.nii.gz'\n",
    "aligned_path = f'./register_output/eval_numkey{NUM_KEYPOINTS}_variant{VARIANT}/0_0_fixed_moving/img_a_0-fixed_0-moving-rot0-tps_1.npy'\n",
    "\n",
    "points_m_path = f'register_output/eval_numkey{NUM_KEYPOINTS}_variant{VARIANT}/0_0_fixed_moving/points_m_0-moving-rot0.npy'\n",
    "points_f_path = f'register_output/eval_numkey{NUM_KEYPOINTS}_variant{VARIANT}/0_0_fixed_moving/points_f_0-fixed.npy'\n",
    "points_a_path = f'register_output/eval_numkey{NUM_KEYPOINTS}_variant{VARIANT}/0_0_fixed_moving/points_a_0-fixed_0-moving-rot0-tps_1.npy'\n",
    "points_a_path = f'register_output/eval_numkey{NUM_KEYPOINTS}_variant{VARIANT}/0_0_fixed_moving/points_weights_0-fixed_0-moving-rot0-rigid.npy'\n",
    "points_weights_path = f'register_output/eval_numkey{NUM_KEYPOINTS}_variant{VARIANT}/0_0_fixed_moving/points_weights_0-fixed_0-moving-rot0-tps_1.npy'\n",
    "\n",
    "moving = nib.load(moving_path).get_fdata()\n",
    "fixed = nib.load(fixed_path).get_fdata()\n",
    "aligned = np.load(aligned_path)[0]\n",
    "\n",
    "points_m = np.load(points_m_path)\n",
    "points_f = np.load(points_f_path)\n",
    "points_a = np.load(points_a_path)\n",
    "points_af = np.stack((points_a, points_f))\n",
    "points_weights = np.load(points_weights_path)\n",
    "print(moving.shape, fixed.shape, aligned.shape)\n",
    "print(points_m.shape, points_f.shape, points_a.shape, points_weights.shape)"
   ]
  },
  {
   "cell_type": "markdown",
   "metadata": {},
   "source": [
    "Visualize the results. Note that the script always outputs registration results which are 1mm isotropic and cropped/padded to size 256x256x256. For the overlaying of keypoints in the visualizations to make sense, we will manually apply these transformations to the images:"
   ]
  },
  {
   "cell_type": "code",
   "execution_count": null,
   "metadata": {},
   "outputs": [
    {
     "ename": "",
     "evalue": "",
     "output_type": "error",
     "traceback": [
      "\u001b[1;31mRunning cells with 'Python 3.10.12' requires the ipykernel package.\n",
      "\u001b[1;31mRun the following command to install 'ipykernel' into the Python environment. \n",
      "\u001b[1;31mCommand: '/bin/python3 -m pip install ipykernel -U --user --force-reinstall'"
     ]
    }
   ],
   "source": [
    "transform = tio.Compose(\n",
    "            [\n",
    "                tio.ToCanonical(),\n",
    "                tio.Resample(1),\n",
    "                tio.Resample(\"img\"),\n",
    "                tio.CropOrPad((256, 256, 256), padding_mode=0, include=(\"img\",)),\n",
    "                tio.CropOrPad((256, 256, 256), padding_mode=0, include=(\"seg\",)),\n",
    "            ],\n",
    "            include=(\"img\", \"seg\"),\n",
    "        )\n",
    "moving_subject = tio.Subject(img=tio.ScalarImage(moving_path))\n",
    "fixed_subject = tio.Subject(img=tio.ScalarImage(fixed_path))\n",
    "\n",
    "moving = transform(moving_subject)['img'].data[0]\n",
    "fixed = transform(fixed_subject)['img'].data[0]\n",
    "\n",
    "imshow_img_and_points_3d(moving, \n",
    "                         all_points=points_m, \n",
    "                        #  all_weights=points_weights, \n",
    "                         rotate_90_deg=1)\n",
    "imshow_img_and_points_3d(fixed, \n",
    "                         all_points=points_f, \n",
    "                        #  all_weights=points_weights, \n",
    "                         rotate_90_deg=1)\n",
    "imshow_img_and_points_3d(aligned, \n",
    "                         all_points=points_af, \n",
    "                        #  all_weights=points_weights, \n",
    "                         rotate_90_deg=1)"
   ]
  },
  {
   "cell_type": "markdown",
   "metadata": {},
   "source": [
    "Or, visualize all the images at once:"
   ]
  },
  {
   "cell_type": "code",
   "execution_count": null,
   "metadata": {},
   "outputs": [
    {
     "ename": "",
     "evalue": "",
     "output_type": "error",
     "traceback": [
      "\u001b[1;31mRunning cells with 'Python 3.10.12' requires the ipykernel package.\n",
      "\u001b[1;31mRun the following command to install 'ipykernel' into the Python environment. \n",
      "\u001b[1;31mCommand: '/bin/python3 -m pip install ipykernel -U --user --force-reinstall'"
     ]
    }
   ],
   "source": [
    "imshow_registration_3d(moving, fixed, aligned, points_m, points_f, points_a, points_weights, rotate_90_deg=1)"
   ]
  }
 ],
 "metadata": {
  "kernelspec": {
   "display_name": "Python 3",
   "language": "python",
   "name": "python3"
  },
  "language_info": {
   "codemirror_mode": {
    "name": "ipython",
    "version": 3
   },
   "file_extension": ".py",
   "mimetype": "text/x-python",
   "name": "python",
   "nbconvert_exporter": "python",
   "pygments_lexer": "ipython3",
   "version": "3.8.18"
  }
 },
 "nbformat": 4,
 "nbformat_minor": 2
}
